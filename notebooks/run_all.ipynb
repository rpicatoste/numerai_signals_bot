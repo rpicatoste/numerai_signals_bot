{
 "cells": [
  {
   "cell_type": "code",
   "execution_count": 1,
   "metadata": {},
   "outputs": [],
   "source": [
    "%load_ext autoreload\n",
    "%autoreload 2\n",
    "import os\n",
    "from pathlib import Path\n",
    "if 'already_run' not in locals():\n",
    "    os.chdir(\"../src\")\n",
    "    PROJECT_FOLDER = Path(os.getcwd()).parent\n",
    "    already_run = True\n",
    "else:\n",
    "    print('Already run')\n"
   ]
  },
  {
   "cell_type": "code",
   "execution_count": 2,
   "metadata": {},
   "outputs": [],
   "source": [
    "cfg_path = PROJECT_FOLDER/\"api/configurations/cfg.yaml\""
   ]
  },
  {
   "cell_type": "code",
   "execution_count": 3,
   "metadata": {},
   "outputs": [],
   "source": [
    "from data.database_generator import DataBaseGenerator\n",
    "from features.feature_generator import FeatureGenerator\n",
    "from models.model_trainer import ModelTrainer"
   ]
  },
  {
   "cell_type": "code",
   "execution_count": 4,
   "metadata": {},
   "outputs": [
    {
     "name": "stdout",
     "output_type": "stream",
     "text": [
      "Running all\n",
      "Generate database\n"
     ]
    },
    {
     "name": "stderr",
     "output_type": "stream",
     "text": [
      "  0%|          | 0/25 [00:00<?, ?tickers/s]"
     ]
    }
   ],
   "source": [
    "print(\"Running all\")\n",
    "print(\"Generate database\")\n",
    "dbg = DataBaseGenerator(cfg_path)\n",
    "dbg.create_initial_database()"
   ]
  },
  {
   "cell_type": "code",
   "execution_count": 4,
   "metadata": {},
   "outputs": [
    {
     "name": "stdout",
     "output_type": "stream",
     "text": [
      "Generate features\n",
      "Generating features\n"
     ]
    },
    {
     "name": "stderr",
     "output_type": "stream",
     "text": [
      "/Users/servandodavidtorresgarcia/miniconda3/envs/nsb/lib/python3.10/site-packages/opensignals/data/provider.py:135: UserWarning: Boolean Series key will be reindexed to match DataFrame index.\n",
      "  ml_data = ml_data[ml_data.index.value_counts() > 50]\n"
     ]
    }
   ],
   "source": [
    "print(\"Generate features\")\n",
    "fg = FeatureGenerator(cfg_path)\n",
    "fg.generate_features()"
   ]
  },
  {
   "cell_type": "code",
   "execution_count": 6,
   "metadata": {},
   "outputs": [
    {
     "name": "stdout",
     "output_type": "stream",
     "text": [
      "Train model\n",
      "Reading data\n"
     ]
    },
    {
     "name": "stderr",
     "output_type": "stream",
     "text": [
      "/Users/servandodavidtorresgarcia/Servando/fsdl/numerai_signals_bot/src/models/model_trainer.py:21: DtypeWarning: Columns (83,84) have mixed types.Specify dtype option on import or set low_memory=False.\n",
      "  self.feat_gen.load_features()\n"
     ]
    },
    {
     "name": "stdout",
     "output_type": "stream",
     "text": [
      "Training model\n",
      "Predicting test and live data\n",
      "Writing signal upload file\n",
      "Finished\n"
     ]
    }
   ],
   "source": [
    "\n",
    "print(\"Train model\")\n",
    "mt = ModelTrainer(cfg_path)\n",
    "mt.load_data()\n",
    "mt.train_model()\n",
    "mt.predict()"
   ]
  },
  {
   "cell_type": "code",
   "execution_count": null,
   "metadata": {},
   "outputs": [],
   "source": []
  }
 ],
 "metadata": {
  "kernelspec": {
   "display_name": "Python 3.10.4 ('nsb')",
   "language": "python",
   "name": "python3"
  },
  "language_info": {
   "codemirror_mode": {
    "name": "ipython",
    "version": 3
   },
   "file_extension": ".py",
   "mimetype": "text/x-python",
   "name": "python",
   "nbconvert_exporter": "python",
   "pygments_lexer": "ipython3",
   "version": "3.10.4"
  },
  "orig_nbformat": 4,
  "vscode": {
   "interpreter": {
    "hash": "c8492beef750cb6adb9ba37c7805207079f695a78cdbcf2202f31e93cc06b442"
   }
  }
 },
 "nbformat": 4,
 "nbformat_minor": 2
}
