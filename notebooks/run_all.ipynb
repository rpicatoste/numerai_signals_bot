{
 "cells": [
  {
   "cell_type": "code",
   "execution_count": null,
   "metadata": {},
   "outputs": [],
   "source": [
    "%load_ext autoreload\n",
    "%autoreload 2\n",
    "import os\n",
    "from pathlib import Path\n",
    "if 'already_run' not in locals():\n",
    "    os.chdir(\"../src\")\n",
    "    PROJECT_FOLDER = Path(os.getcwd()).parent\n",
    "    already_run = True\n",
    "else:\n",
    "    print('Already run')\n"
   ]
  },
  {
   "cell_type": "code",
   "execution_count": null,
   "metadata": {},
   "outputs": [],
   "source": [
    "cfg_path = PROJECT_FOLDER/\"api/configurations/cfg.yaml\""
   ]
  },
  {
   "cell_type": "code",
   "execution_count": null,
   "metadata": {},
   "outputs": [],
   "source": [
    "from data.database_generator import DataBaseGenerator\n",
    "from features.feature_generator import FeatureGenerator\n",
    "from models.model_trainer import ModelTrainer"
   ]
  },
  {
   "cell_type": "code",
   "execution_count": null,
   "metadata": {},
   "outputs": [],
   "source": [
    "print(\"Running all\")\n",
    "print(\"Generate database\")\n",
    "dbg = DataBaseGenerator(cfg_path)\n",
    "dbg.create_initial_database()"
   ]
  },
  {
   "cell_type": "code",
   "execution_count": null,
   "metadata": {},
   "outputs": [],
   "source": [
    "print(\"Generate features\")\n",
    "fg = FeatureGenerator(cfg_path)\n",
    "fg.generate_features()"
   ]
  },
  {
   "cell_type": "code",
   "execution_count": null,
   "metadata": {},
   "outputs": [],
   "source": [
    "\n",
    "print(\"Train model\")\n",
    "mt = ModelTrainer(cfg_path)\n",
    "mt.load_data()\n",
    "mt.train_model()\n",
    "mt.predict()"
   ]
  }
 ],
 "metadata": {
  "kernelspec": {
   "display_name": "Python 3.10.4 ('nsb')",
   "language": "python",
   "name": "python3"
  },
  "language_info": {
   "codemirror_mode": {
    "name": "ipython",
    "version": 3
   },
   "file_extension": ".py",
   "mimetype": "text/x-python",
   "name": "python",
   "nbconvert_exporter": "python",
   "pygments_lexer": "ipython3",
   "version": "3.10.4"
  },
  "orig_nbformat": 4,
  "vscode": {
   "interpreter": {
    "hash": "c8492beef750cb6adb9ba37c7805207079f695a78cdbcf2202f31e93cc06b442"
   }
  }
 },
 "nbformat": 4,
 "nbformat_minor": 2
}
