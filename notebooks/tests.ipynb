{
 "cells": [
  {
   "cell_type": "code",
   "execution_count": null,
   "metadata": {
    "ExecuteTime": {
     "end_time": "2022-10-09T05:52:16.544333Z",
     "start_time": "2022-10-09T05:52:16.525594Z"
    }
   },
   "outputs": [],
   "source": [
    "%load_ext autoreload\n",
    "%autoreload 2\n",
    "%matplotlib inline\n",
    "import os\n",
    "if 'already_run' not in locals():\n",
    "    os.chdir(\"..\")\n",
    "    already_run = True\n",
    "else:\n",
    "    print('Already run')\n",
    "from IPython.core.interactiveshell import InteractiveShell\n",
    "InteractiveShell.ast_node_interactivity = \"all\"\n"
   ]
  },
  {
   "cell_type": "code",
   "execution_count": null,
   "metadata": {
    "ExecuteTime": {
     "end_time": "2022-10-09T05:55:08.399609Z",
     "start_time": "2022-10-09T05:55:08.382892Z"
    }
   },
   "outputs": [],
   "source": [
    "import numpy as np\n",
    "import pandas as pd"
   ]
  },
  {
   "cell_type": "code",
   "execution_count": null,
   "metadata": {},
   "outputs": [],
   "source": [
    "cfg_path = '/home/pica/workspace/fsdl2022/numerai_signals_bot/api/configurations/cfg.yaml'"
   ]
  },
  {
   "cell_type": "code",
   "execution_count": null,
   "metadata": {
    "ExecuteTime": {
     "end_time": "2022-10-09T05:54:09.867001Z",
     "start_time": "2022-10-09T05:54:08.369440Z"
    }
   },
   "outputs": [],
   "source": [
    "path = 'https://numerai-signals-public-data.s3-us-west-2.amazonaws.com/signals_train_val_bbg.csv'\n",
    "path = '/home/pica/nas_pica/Data/numerai_signals/numerai_files/signals_train_val_bbg.csv'\n",
    "df = pd.read_csv(path)\n",
    "df.shape\n",
    "df['friday_date'] = pd.to_datetime(df['friday_date'], format='%Y%m%d')\n",
    "df.head()"
   ]
  },
  {
   "cell_type": "code",
   "execution_count": null,
   "metadata": {
    "ExecuteTime": {
     "end_time": "2022-10-09T05:54:18.222286Z",
     "start_time": "2022-10-09T05:54:18.009423Z"
    }
   },
   "outputs": [],
   "source": [
    "per_frid = df.groupby('friday_date')['bloomberg_ticker'].count()"
   ]
  },
  {
   "cell_type": "code",
   "execution_count": null,
   "metadata": {
    "ExecuteTime": {
     "end_time": "2022-10-09T05:54:19.542173Z",
     "start_time": "2022-10-09T05:54:19.353611Z"
    }
   },
   "outputs": [],
   "source": [
    "per_frid.head()\n",
    "per_frid.plot()"
   ]
  },
  {
   "cell_type": "code",
   "execution_count": null,
   "metadata": {},
   "outputs": [],
   "source": [
    "from src.data.database_generator import DataBaseGenerator\n",
    "\n",
    "dbg = DataBaseGenerator()\n",
    "dbg.create_initial_database()"
   ]
  },
  {
   "cell_type": "code",
   "execution_count": null,
   "metadata": {},
   "outputs": [],
   "source": [
    "from src.data.database_reader import DataBaseReader\n",
    "\n",
    "from pathlib import Path\n",
    "db_dir = Path('db')\n",
    "dbr = DataBaseReader(db_dir)\n",
    "\n",
    "ticker_data = dbr.get_data()"
   ]
  },
  {
   "cell_type": "code",
   "execution_count": null,
   "metadata": {},
   "outputs": [],
   "source": [
    "ticker_data.shape\n",
    "ticker_data.head()"
   ]
  },
  {
   "cell_type": "code",
   "execution_count": null,
   "metadata": {
    "ExecuteTime": {
     "end_time": "2022-10-09T05:58:41.550011Z",
     "start_time": "2022-10-09T05:58:40.127306Z"
    }
   },
   "outputs": [],
   "source": [
    "import matplotlib.pyplot as plt\n",
    "\n",
    "usd_idxs = ticker_data.currency == 'USD'\n",
    "tickers = np.random.choice(ticker_data[usd_idxs]['bloomberg_ticker'].unique(), 5)\n",
    "tickers\n",
    "_= plt.figure(figsize=(15,10))\n",
    "for ticker in tickers:\n",
    "    idxs = ticker_data['bloomberg_ticker'] == ticker\n",
    "    _=plt.plot(ticker_data[idxs]['date'], ticker_data[idxs][['high', 'low']].mean(axis=1), label=ticker)\n",
    "    \n",
    "plt.legend()\n",
    "plt.grid()"
   ]
  },
  {
   "cell_type": "code",
   "execution_count": null,
   "metadata": {},
   "outputs": [],
   "source": [
    "from src.features.feature_generator import FeatureGenerator\n",
    "fg = FeatureGenerator(cfg_path)\n",
    "\n",
    "fg.generate_features()"
   ]
  },
  {
   "cell_type": "code",
   "execution_count": null,
   "metadata": {},
   "outputs": [],
   "source": [
    "from src.models.model_trainer import ModelTrainer\n",
    "\n",
    "trainer = ModelTrainer(cfg_path)\n"
   ]
  },
  {
   "cell_type": "code",
   "execution_count": null,
   "metadata": {},
   "outputs": [],
   "source": [
    "trainer.load_data()"
   ]
  },
  {
   "cell_type": "code",
   "execution_count": null,
   "metadata": {},
   "outputs": [],
   "source": [
    "trainer.train_model()"
   ]
  },
  {
   "cell_type": "code",
   "execution_count": null,
   "metadata": {},
   "outputs": [],
   "source": [
    "trainer.predict(output_dir='output')"
   ]
  }
 ],
 "metadata": {
  "kernelspec": {
   "display_name": "Python 3 (ipykernel)",
   "language": "python",
   "name": "python3"
  },
  "language_info": {
   "codemirror_mode": {
    "name": "ipython",
    "version": 3
   },
   "file_extension": ".py",
   "mimetype": "text/x-python",
   "name": "python",
   "nbconvert_exporter": "python",
   "pygments_lexer": "ipython3",
   "version": "3.10.4"
  },
  "vscode": {
   "interpreter": {
    "hash": "c8492beef750cb6adb9ba37c7805207079f695a78cdbcf2202f31e93cc06b442"
   }
  }
 },
 "nbformat": 4,
 "nbformat_minor": 2
}
