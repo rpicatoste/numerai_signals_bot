{
 "cells": [
  {
   "cell_type": "code",
   "execution_count": 1,
   "metadata": {},
   "outputs": [],
   "source": [
    "%load_ext autoreload\n",
    "%autoreload 2\n",
    "import os\n",
    "from pathlib import Path\n",
    "if 'already_run' not in locals():\n",
    "    os.chdir(\"../src\")\n",
    "    PROJECT_FOLDER = Path(os.getcwd()).parent\n",
    "    already_run = True\n",
    "else:\n",
    "    print('Already run')"
   ]
  },
  {
   "cell_type": "code",
   "execution_count": 3,
   "metadata": {},
   "outputs": [],
   "source": [
    "cfg_path = PROJECT_FOLDER/\"api/configurations/cfg.yaml\""
   ]
  },
  {
   "cell_type": "code",
   "execution_count": 7,
   "metadata": {},
   "outputs": [],
   "source": [
    "from data.database_configuration import DataBaseConfiguration\n",
    "\n",
    "dbg = DataBaseConfiguration(cfg_path)"
   ]
  },
  {
   "cell_type": "code",
   "execution_count": 11,
   "metadata": {},
   "outputs": [],
   "source": [
    "import pandas as pd\n",
    "\n",
    "df = pd.read_parquet(dbg.db_dir)"
   ]
  },
  {
   "cell_type": "code",
   "execution_count": 12,
   "metadata": {},
   "outputs": [
    {
     "data": {
      "text/html": [
       "<div>\n",
       "<style scoped>\n",
       "    .dataframe tbody tr th:only-of-type {\n",
       "        vertical-align: middle;\n",
       "    }\n",
       "\n",
       "    .dataframe tbody tr th {\n",
       "        vertical-align: top;\n",
       "    }\n",
       "\n",
       "    .dataframe thead th {\n",
       "        text-align: right;\n",
       "    }\n",
       "</style>\n",
       "<table border=\"1\" class=\"dataframe\">\n",
       "  <thead>\n",
       "    <tr style=\"text-align: right;\">\n",
       "      <th></th>\n",
       "      <th>date</th>\n",
       "      <th>bloomberg_ticker</th>\n",
       "      <th>open</th>\n",
       "      <th>high</th>\n",
       "      <th>low</th>\n",
       "      <th>close</th>\n",
       "      <th>adj_close</th>\n",
       "      <th>volume</th>\n",
       "      <th>currency</th>\n",
       "      <th>provider</th>\n",
       "      <th>created_at</th>\n",
       "    </tr>\n",
       "  </thead>\n",
       "  <tbody>\n",
       "    <tr>\n",
       "      <th>0</th>\n",
       "      <td>2002-12-02</td>\n",
       "      <td>000720 KS</td>\n",
       "      <td>17240.287109</td>\n",
       "      <td>17240.287109</td>\n",
       "      <td>17240.287109</td>\n",
       "      <td>17240.287109</td>\n",
       "      <td>14663.353516</td>\n",
       "      <td>0.0</td>\n",
       "      <td>KRW</td>\n",
       "      <td>yahoo</td>\n",
       "      <td>2022-10-10 22:15:00.733372</td>\n",
       "    </tr>\n",
       "    <tr>\n",
       "      <th>1</th>\n",
       "      <td>2002-12-03</td>\n",
       "      <td>000720 KS</td>\n",
       "      <td>17647.537109</td>\n",
       "      <td>18190.539062</td>\n",
       "      <td>17557.037109</td>\n",
       "      <td>18100.039062</td>\n",
       "      <td>15394.597656</td>\n",
       "      <td>904053.0</td>\n",
       "      <td>KRW</td>\n",
       "      <td>yahoo</td>\n",
       "      <td>2022-10-10 22:15:00.733372</td>\n",
       "    </tr>\n",
       "    <tr>\n",
       "      <th>2</th>\n",
       "      <td>2002-12-04</td>\n",
       "      <td>000720 KS</td>\n",
       "      <td>17738.037109</td>\n",
       "      <td>17828.537109</td>\n",
       "      <td>17376.037109</td>\n",
       "      <td>17376.037109</td>\n",
       "      <td>14778.811523</td>\n",
       "      <td>546849.0</td>\n",
       "      <td>KRW</td>\n",
       "      <td>yahoo</td>\n",
       "      <td>2022-10-10 22:15:00.733372</td>\n",
       "    </tr>\n",
       "    <tr>\n",
       "      <th>3</th>\n",
       "      <td>2002-12-05</td>\n",
       "      <td>000720 KS</td>\n",
       "      <td>17285.537109</td>\n",
       "      <td>17557.037109</td>\n",
       "      <td>17240.287109</td>\n",
       "      <td>17376.037109</td>\n",
       "      <td>14778.811523</td>\n",
       "      <td>368374.0</td>\n",
       "      <td>KRW</td>\n",
       "      <td>yahoo</td>\n",
       "      <td>2022-10-10 22:15:00.733372</td>\n",
       "    </tr>\n",
       "    <tr>\n",
       "      <th>4</th>\n",
       "      <td>2002-12-06</td>\n",
       "      <td>000720 KS</td>\n",
       "      <td>17285.537109</td>\n",
       "      <td>17692.787109</td>\n",
       "      <td>17240.287109</td>\n",
       "      <td>17466.537109</td>\n",
       "      <td>14855.786133</td>\n",
       "      <td>373380.0</td>\n",
       "      <td>KRW</td>\n",
       "      <td>yahoo</td>\n",
       "      <td>2022-10-10 22:15:00.733372</td>\n",
       "    </tr>\n",
       "  </tbody>\n",
       "</table>\n",
       "</div>"
      ],
      "text/plain": [
       "        date bloomberg_ticker          open          high           low  \\\n",
       "0 2002-12-02        000720 KS  17240.287109  17240.287109  17240.287109   \n",
       "1 2002-12-03        000720 KS  17647.537109  18190.539062  17557.037109   \n",
       "2 2002-12-04        000720 KS  17738.037109  17828.537109  17376.037109   \n",
       "3 2002-12-05        000720 KS  17285.537109  17557.037109  17240.287109   \n",
       "4 2002-12-06        000720 KS  17285.537109  17692.787109  17240.287109   \n",
       "\n",
       "          close     adj_close    volume currency provider  \\\n",
       "0  17240.287109  14663.353516       0.0      KRW    yahoo   \n",
       "1  18100.039062  15394.597656  904053.0      KRW    yahoo   \n",
       "2  17376.037109  14778.811523  546849.0      KRW    yahoo   \n",
       "3  17376.037109  14778.811523  368374.0      KRW    yahoo   \n",
       "4  17466.537109  14855.786133  373380.0      KRW    yahoo   \n",
       "\n",
       "                  created_at  \n",
       "0 2022-10-10 22:15:00.733372  \n",
       "1 2022-10-10 22:15:00.733372  \n",
       "2 2022-10-10 22:15:00.733372  \n",
       "3 2022-10-10 22:15:00.733372  \n",
       "4 2022-10-10 22:15:00.733372  "
      ]
     },
     "execution_count": 12,
     "metadata": {},
     "output_type": "execute_result"
    }
   ],
   "source": [
    "df.head()"
   ]
  },
  {
   "cell_type": "code",
   "execution_count": 13,
   "metadata": {},
   "outputs": [
    {
     "data": {
      "text/html": [
       "<div>\n",
       "<style scoped>\n",
       "    .dataframe tbody tr th:only-of-type {\n",
       "        vertical-align: middle;\n",
       "    }\n",
       "\n",
       "    .dataframe tbody tr th {\n",
       "        vertical-align: top;\n",
       "    }\n",
       "\n",
       "    .dataframe thead th {\n",
       "        text-align: right;\n",
       "    }\n",
       "</style>\n",
       "<table border=\"1\" class=\"dataframe\">\n",
       "  <thead>\n",
       "    <tr style=\"text-align: right;\">\n",
       "      <th></th>\n",
       "      <th>open</th>\n",
       "      <th>high</th>\n",
       "      <th>low</th>\n",
       "      <th>close</th>\n",
       "      <th>adj_close</th>\n",
       "      <th>volume</th>\n",
       "    </tr>\n",
       "  </thead>\n",
       "  <tbody>\n",
       "    <tr>\n",
       "      <th>count</th>\n",
       "      <td>1.866704e+07</td>\n",
       "      <td>1.866704e+07</td>\n",
       "      <td>1.866704e+07</td>\n",
       "      <td>1.866704e+07</td>\n",
       "      <td>1.866704e+07</td>\n",
       "      <td>1.866704e+07</td>\n",
       "    </tr>\n",
       "    <tr>\n",
       "      <th>mean</th>\n",
       "      <td>4.048327e+03</td>\n",
       "      <td>4.323696e+03</td>\n",
       "      <td>4.192074e+03</td>\n",
       "      <td>4.046402e+03</td>\n",
       "      <td>2.280801e+04</td>\n",
       "      <td>1.070202e+07</td>\n",
       "    </tr>\n",
       "    <tr>\n",
       "      <th>std</th>\n",
       "      <td>5.205981e+04</td>\n",
       "      <td>6.587397e+04</td>\n",
       "      <td>6.453505e+04</td>\n",
       "      <td>5.203306e+04</td>\n",
       "      <td>4.409407e+06</td>\n",
       "      <td>6.169745e+08</td>\n",
       "    </tr>\n",
       "    <tr>\n",
       "      <th>min</th>\n",
       "      <td>0.000000e+00</td>\n",
       "      <td>0.000000e+00</td>\n",
       "      <td>0.000000e+00</td>\n",
       "      <td>0.000000e+00</td>\n",
       "      <td>-3.965425e+05</td>\n",
       "      <td>0.000000e+00</td>\n",
       "    </tr>\n",
       "    <tr>\n",
       "      <th>25%</th>\n",
       "      <td>1.619000e+01</td>\n",
       "      <td>1.646000e+01</td>\n",
       "      <td>1.592000e+01</td>\n",
       "      <td>1.619000e+01</td>\n",
       "      <td>1.285166e+01</td>\n",
       "      <td>1.606585e+05</td>\n",
       "    </tr>\n",
       "    <tr>\n",
       "      <th>50%</th>\n",
       "      <td>4.391323e+01</td>\n",
       "      <td>4.450000e+01</td>\n",
       "      <td>4.330000e+01</td>\n",
       "      <td>4.390000e+01</td>\n",
       "      <td>3.677338e+01</td>\n",
       "      <td>5.788000e+05</td>\n",
       "    </tr>\n",
       "    <tr>\n",
       "      <th>75%</th>\n",
       "      <td>3.947500e+02</td>\n",
       "      <td>4.000000e+02</td>\n",
       "      <td>3.890140e+02</td>\n",
       "      <td>3.944445e+02</td>\n",
       "      <td>3.157378e+02</td>\n",
       "      <td>2.016600e+06</td>\n",
       "    </tr>\n",
       "    <tr>\n",
       "      <th>max</th>\n",
       "      <td>6.427222e+06</td>\n",
       "      <td>1.180000e+07</td>\n",
       "      <td>1.150000e+07</td>\n",
       "      <td>6.427222e+06</td>\n",
       "      <td>1.971195e+09</td>\n",
       "      <td>4.954022e+11</td>\n",
       "    </tr>\n",
       "  </tbody>\n",
       "</table>\n",
       "</div>"
      ],
      "text/plain": [
       "               open          high           low         close     adj_close  \\\n",
       "count  1.866704e+07  1.866704e+07  1.866704e+07  1.866704e+07  1.866704e+07   \n",
       "mean   4.048327e+03  4.323696e+03  4.192074e+03  4.046402e+03  2.280801e+04   \n",
       "std    5.205981e+04  6.587397e+04  6.453505e+04  5.203306e+04  4.409407e+06   \n",
       "min    0.000000e+00  0.000000e+00  0.000000e+00  0.000000e+00 -3.965425e+05   \n",
       "25%    1.619000e+01  1.646000e+01  1.592000e+01  1.619000e+01  1.285166e+01   \n",
       "50%    4.391323e+01  4.450000e+01  4.330000e+01  4.390000e+01  3.677338e+01   \n",
       "75%    3.947500e+02  4.000000e+02  3.890140e+02  3.944445e+02  3.157378e+02   \n",
       "max    6.427222e+06  1.180000e+07  1.150000e+07  6.427222e+06  1.971195e+09   \n",
       "\n",
       "             volume  \n",
       "count  1.866704e+07  \n",
       "mean   1.070202e+07  \n",
       "std    6.169745e+08  \n",
       "min    0.000000e+00  \n",
       "25%    1.606585e+05  \n",
       "50%    5.788000e+05  \n",
       "75%    2.016600e+06  \n",
       "max    4.954022e+11  "
      ]
     },
     "execution_count": 13,
     "metadata": {},
     "output_type": "execute_result"
    }
   ],
   "source": [
    "# summary statistics \n",
    "df.describe()"
   ]
  },
  {
   "cell_type": "code",
   "execution_count": 14,
   "metadata": {},
   "outputs": [
    {
     "data": {
      "text/html": [
       "<div>\n",
       "<style scoped>\n",
       "    .dataframe tbody tr th:only-of-type {\n",
       "        vertical-align: middle;\n",
       "    }\n",
       "\n",
       "    .dataframe tbody tr th {\n",
       "        vertical-align: top;\n",
       "    }\n",
       "\n",
       "    .dataframe thead th {\n",
       "        text-align: right;\n",
       "    }\n",
       "</style>\n",
       "<table border=\"1\" class=\"dataframe\">\n",
       "  <thead>\n",
       "    <tr style=\"text-align: right;\">\n",
       "      <th></th>\n",
       "      <th>count</th>\n",
       "      <th>unique</th>\n",
       "      <th>top</th>\n",
       "      <th>freq</th>\n",
       "    </tr>\n",
       "  </thead>\n",
       "  <tbody>\n",
       "    <tr>\n",
       "      <th>bloomberg_ticker</th>\n",
       "      <td>18667039</td>\n",
       "      <td>5047</td>\n",
       "      <td>TSKB TI</td>\n",
       "      <td>5120</td>\n",
       "    </tr>\n",
       "    <tr>\n",
       "      <th>currency</th>\n",
       "      <td>18667039</td>\n",
       "      <td>26</td>\n",
       "      <td>USD</td>\n",
       "      <td>7336834</td>\n",
       "    </tr>\n",
       "    <tr>\n",
       "      <th>provider</th>\n",
       "      <td>18667039</td>\n",
       "      <td>1</td>\n",
       "      <td>yahoo</td>\n",
       "      <td>18667039</td>\n",
       "    </tr>\n",
       "  </tbody>\n",
       "</table>\n",
       "</div>"
      ],
      "text/plain": [
       "                     count unique      top      freq\n",
       "bloomberg_ticker  18667039   5047  TSKB TI      5120\n",
       "currency          18667039     26      USD   7336834\n",
       "provider          18667039      1    yahoo  18667039"
      ]
     },
     "execution_count": 14,
     "metadata": {},
     "output_type": "execute_result"
    }
   ],
   "source": [
    "# categorical features\n",
    "df.describe(include=object).T"
   ]
  },
  {
   "cell_type": "code",
   "execution_count": 16,
   "metadata": {},
   "outputs": [
    {
     "data": {
      "text/plain": [
       "<AxesSubplot: >"
      ]
     },
     "execution_count": 16,
     "metadata": {},
     "output_type": "execute_result"
    },
    {
     "data": {
      "image/png": "[encoded data removed]",
      "text/plain": [
       "<Figure size 640x480 with 1 Axes>"
      ]
     },
     "metadata": {},
     "output_type": "display_data"
    }
   ],
   "source": [
    "#dates\n",
    "df.date.hist()"
   ]
  },
  {
   "cell_type": "code",
   "execution_count": 18,
   "metadata": {},
   "outputs": [
    {
     "data": {
      "image/png": "[encoded data removed]",
      "text/plain": [
       "<Figure size 1200x3000 with 45 Axes>"
      ]
     },
     "metadata": {},
     "output_type": "display_data"
    }
   ],
   "source": [
    "import matplotlib.pyplot as plt\n",
    "%matplotlib inline\n",
    "#import seaborn as sns\n",
    "df.hist(figsize=(12, 30), bins=20, grid=False, layout=(15, 3))\n",
    "#sns.despine()\n",
    "plt.suptitle('Distributions numerical features', fontsize=14)\n",
    "plt.tight_layout(rect=[0, 0, 1, 0.97])"
   ]
  },
  {
   "cell_type": "code",
   "execution_count": null,
   "metadata": {},
   "outputs": [],
   "source": []
  }
 ],
 "metadata": {
  "kernelspec": {
   "display_name": "Python 3.10.4 ('nsb')",
   "language": "python",
   "name": "python3"
  },
  "language_info": {
   "codemirror_mode": {
    "name": "ipython",
    "version": 3
   },
   "file_extension": ".py",
   "mimetype": "text/x-python",
   "name": "python",
   "nbconvert_exporter": "python",
   "pygments_lexer": "ipython3",
   "version": "3.10.4"
  },
  "orig_nbformat": 4,
  "vscode": {
   "interpreter": {
    "hash": "a7c59b3c8478774e7eee1b91716644bdc65a6881059892313cce675f3bb87914"
   }
  }
 },
 "nbformat": 4,
 "nbformat_minor": 2
}
